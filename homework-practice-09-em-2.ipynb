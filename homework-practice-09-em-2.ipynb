{
 "cells": [
  {
   "cell_type": "markdown",
   "metadata": {
    "pycharm": {
     "name": "#%% md\n"
    }
   },
   "source": [
    "# Машинное обучение, ФКН ВШЭ\n",
    "\n",
    "# Практическое задание 9. EM-алгоритм\n",
    "\n",
    "## Общая информация\n",
    "\n",
    "Дата выдачи: 18.02.2025\n",
    "\n",
    "Мягкий дедлайн: 11.03.2025 23:59 MSK\n",
    "\n",
    "Жёсткий дедлайн: 16.03.2025 23:59 MSK\n",
    "\n",
    "## Оценивание и штрафы\n",
    "Каждая из задач имеет определенную «стоимость» (указана в скобках около задачи). Максимальная оценка за работу (без учёта бонусов) — 15 баллов.\n",
    "\n",
    "Сдавать задание после указанного жёсткого срока сдачи нельзя. При выставлении неполного балла за задание в связи с наличием ошибок на усмотрение проверяющего предусмотрена возможность исправить работу на указанных в ответном письме условиях.\n",
    "\n",
    "Задание выполняется самостоятельно. «Похожие» решения считаются плагиатом и все задействованные студенты (в том числе те, у кого списали) не могут получить за него больше 0 баллов (подробнее о плагиате см. на странице курса). Если вы нашли решение какого-то из заданий (или его часть) в открытом источнике, необходимо указать ссылку на этот источник в отдельном блоке в конце вашей работы (скорее всего вы будете не единственным, кто это нашел, поэтому чтобы исключить подозрение в плагиате, необходима ссылка на источник).\n",
    "\n",
    "Неэффективная реализация кода может негативно отразиться на оценке.\n",
    "\n",
    "## Формат сдачи\n",
    "Задания сдаются через систему anytask. Посылка должна содержать:\n",
    "* Ноутбук homework-practice-09-em-Username.ipynb\n",
    "* Модули preprocessing.py, metrics.py, models.py, содержащие написанный вами код\n",
    "* Ссылки на посылки в Яндекс.Контест для всех функций и классов, которые вы реализовали\n",
    "\n",
    "Ссылка на Яндекс.Контест: https://contest.yandex.ru/contest/60281\n",
    "\n",
    "Username — ваша фамилия и имя на латинице именно в таком порядке"
   ]
  },
  {
   "cell_type": "markdown",
   "metadata": {
    "pycharm": {
     "name": "#%% md\n"
    }
   },
   "source": [
    "# Generative model of Labels, Abilities, and Difficulties (GLAD)\n",
    "\n",
    "В [семинаре 16](https://github.com/esokolov/ml-course-hse/blob/master/2022-spring/seminars/sem16-em.pdf) мы рассмотрели задачу восстановления истинной разметки по меткам от экспертов (которым мы не можем доверять в полной мере, более того, их предсказания могут расходиться).\n",
    "\n",
    "Рассмотрим следующую вероятностную модель:\n",
    "\n",
    "$$ p(L, Z | \\alpha, \\beta) = \\prod_{i=1}^{n} \\prod_{j=1}^m \\sigma(\\alpha_j\\beta_i)^{[l_{ij}=z_i]}\\sigma(-\\alpha_j\\beta_i)^{1-[l_{ij}=z_i]} p(z_j)$$\n",
    "\n",
    "где $l_{ij} -$ ответ $j$-го эксперта на задачу $i$, $z_j -$ истинная разметка, $\\alpha_i, \\beta_j-$ уровень экспертизы и сложность задачи соответственно. Для более подробного описания модели можно прочитать материалы семинара, а также [оригинальную статью](http://papers.nips.cc/paper/3644-whose-vote-should-count-more-optimal-integration-of-labels-from-labelers-of-unknown-expertise.pdf). Априорное распределение положим равномерным: $p(z_i) = 0.5$."
   ]
  },
  {
   "cell_type": "code",
   "execution_count": 1,
   "metadata": {
    "execution": {
     "iopub.execute_input": "2025-03-21T17:27:13.633810Z",
     "iopub.status.busy": "2025-03-21T17:27:13.632796Z",
     "iopub.status.idle": "2025-03-21T17:27:13.651528Z",
     "shell.execute_reply": "2025-03-21T17:27:13.650654Z",
     "shell.execute_reply.started": "2025-03-21T17:27:13.633763Z"
    },
    "pycharm": {
     "name": "#%%\n"
    },
    "tags": []
   },
   "outputs": [],
   "source": [
    "import numpy as np\n",
    "seed = 0xDEADF00D\n",
    "np.random.seed(seed)"
   ]
  },
  {
   "cell_type": "code",
   "execution_count": 2,
   "metadata": {
    "execution": {
     "iopub.execute_input": "2025-03-21T17:27:13.654605Z",
     "iopub.status.busy": "2025-03-21T17:27:13.653600Z",
     "iopub.status.idle": "2025-03-21T17:27:13.667023Z",
     "shell.execute_reply": "2025-03-21T17:27:13.666272Z",
     "shell.execute_reply.started": "2025-03-21T17:27:13.654560Z"
    },
    "pycharm": {
     "name": "#%%\n"
    },
    "tags": []
   },
   "outputs": [],
   "source": [
    "L = np.load('L.npy')\n",
    "n, m = L.shape"
   ]
  },
  {
   "cell_type": "markdown",
   "metadata": {
    "pycharm": {
     "name": "#%% md\n"
    }
   },
   "source": [
    "**Задание 1. (2 балла)** Реализуйте EM-алгоритм для заданной выше модели. Вы можете воспользоваться предложенными шаблонами или написать свои. \n",
    "\n",
    "Обратите внимание, что правдоподобие моделирует не вероятность метки $l_{ij}$ принять значение 1 или 0, а вероятность того, что она равна скрытой переменной $z_i$, т.е. $p(l_{ij} = z_j|z_j, \\alpha_j, \\beta_i) \\neq p(l_{ij} = 1|\\alpha_j, \\beta_i) $. При этом заранее неизвестно, какая из скрытых переменных соответствует метке 1. Не забывайте, что параметры $\\beta_i$ должны быть неотрицательными; для этого оптимизируйте $\\log \\beta$. На M-шаге можете использовать как один шаг градиентного спуска, так и несколько: разумные результаты у вас должны получаться вне зависимости от числа итераций.\n",
    "\n",
    "Также при работе с вероятностями не забывайте о точности:\n",
    "1. Используйте логарифмы вероятностей.\n",
    "2. $\\log \\sigma(a)$ лучше преобразовать в $\\log \\sigma(a) = -\\log(1 + \\exp(-a)) = -\\mathrm{softplus}(-a) $\n",
    "3. Ещё полезные функции: `scipy.special.expit`, `scipy.special.logsumexp`, `np.log1p`\n",
    "\n",
    "Для отладки может быть полезно проверить градиент с помощью `scipy.optimize.check_grad`."
   ]
  },
  {
   "cell_type": "code",
   "execution_count": 3,
   "metadata": {
    "execution": {
     "iopub.execute_input": "2025-03-21T17:27:13.670608Z",
     "iopub.status.busy": "2025-03-21T17:27:13.669614Z",
     "iopub.status.idle": "2025-03-21T17:27:13.683662Z",
     "shell.execute_reply": "2025-03-21T17:27:13.681813Z",
     "shell.execute_reply.started": "2025-03-21T17:27:13.670571Z"
    },
    "pycharm": {
     "name": "#%%\n"
    },
    "tags": []
   },
   "outputs": [],
   "source": [
    "def softplus(x):\n",
    "    '''stable version of log(1 + exp(x))'''\n",
    "    c = (x > 20) * 1.\n",
    "    return np.log1p(np.exp(x * (1-c)) * (1-c)) + x * c"
   ]
  },
  {
   "cell_type": "code",
   "execution_count": 18,
   "metadata": {
    "execution": {
     "iopub.execute_input": "2025-03-21T18:05:52.745644Z",
     "iopub.status.busy": "2025-03-21T18:05:52.744590Z",
     "iopub.status.idle": "2025-03-21T18:05:52.770580Z",
     "shell.execute_reply": "2025-03-21T18:05:52.769628Z",
     "shell.execute_reply.started": "2025-03-21T18:05:52.745609Z"
    },
    "pycharm": {
     "name": "#%%\n"
    },
    "tags": []
   },
   "outputs": [],
   "source": [
    "import numpy as np\n",
    "from scipy.special import expit, logsumexp\n",
    "\n",
    "def posterior(alpha, beta, L):\n",
    "    \"\"\" Posterior over true labels z p(z|l, \\alpha, \\beta)\n",
    "    Args:\n",
    "        alpha: ndarray of shape (n_experts).\n",
    "        beta: ndarray of shape (n_problems).\n",
    "        L: ndarray of shape (n_problems, n_experts).\n",
    "    \"\"\"\n",
    "    n, m = L.shape\n",
    "    \n",
    "    A = beta[:, None] * alpha[None, :]\n",
    "    \n",
    "    log_sigma_z0 = np.where(L == 0, -softplus(-A), -softplus(A))\n",
    "    \n",
    "    log_sigma_z1 = np.where(L == 1, -softplus(-A), -softplus(A))\n",
    "    \n",
    "    log_prob0 = np.log(0.5) + np.sum(log_sigma_z0, axis=1)\n",
    "    log_prob1 = np.log(0.5) + np.sum(log_sigma_z1, axis=1)\n",
    "    \n",
    "    log_probs = np.vstack([log_prob0, log_prob1])\n",
    "    \n",
    "    log_norm = logsumexp(log_probs, axis=0)\n",
    "    q = np.exp(log_probs - log_norm)\n",
    "    \n",
    "    return q\n",
    "\n",
    "def log_likelihood(alpha, beta, L, z):\n",
    "    \"\"\" p(l=z|z, \\alpha, \\beta)\n",
    "    Args:\n",
    "        alpha: ndarray of shape (n_experts).\n",
    "        beta: ndarray of shape (n_problems).\n",
    "        L: ndarray of shape (n_problems, n_experts).\n",
    "        z: ndarray of shape (n_problems).\n",
    "    \"\"\"\n",
    "    n, m = L.shape\n",
    "    A = beta[:, None] * alpha[None, :]\n",
    "    \n",
    "    z_matrix = np.repeat(z[:, None], m, axis=1)\n",
    "    log_probs = np.where(L == z_matrix, -softplus(-A), -softplus(A))\n",
    "    \n",
    "    return np.sum(log_probs)\n",
    "\n",
    "def alpha_grad_lb(alpha, beta, L, q):\n",
    "    \"\"\" Gradient of lower bound wrt alpha\n",
    "    Args:\n",
    "        alpha: ndarray of shape (n_experts).\n",
    "        beta: ndarray of shape (n_problems).\n",
    "        L: ndarray of shape (n_problems, n_experts).\n",
    "        q: ndarray of shape (2, n_problems).\n",
    "    \"\"\"\n",
    "    n, m = L.shape\n",
    "    A = beta[:, None] * alpha[None, :]\n",
    "    \n",
    "    sigma_A = expit(A)\n",
    "    sigma_minus_A = expit(-A)\n",
    "    \n",
    "    q0 = q[0][:, None]\n",
    "    q1 = q[1][:, None]\n",
    "    \n",
    "    grad_matrix = np.where(L == 0,\n",
    "                           q0 * sigma_minus_A - q1 * sigma_A,\n",
    "                           q1 * sigma_minus_A - q0 * sigma_A)\n",
    "    \n",
    "    grad_matrix = beta[:, None] * grad_matrix\n",
    "    \n",
    "    grad_alpha = np.sum(grad_matrix, axis=0)\n",
    "    \n",
    "    return grad_alpha\n",
    "\n",
    "def logbeta_grad_lb(alpha, beta, L, q):\n",
    "    \"\"\" Gradient of lower bound wrt alpha\n",
    "    Args:\n",
    "        alpha: ndarray of shape (n_experts).\n",
    "        beta: ndarray of shape (n_problems).\n",
    "        L: ndarray of shape (n_problems, n_experts).\n",
    "        q: ndarray of shape (2, n_problems).\n",
    "    \"\"\"\n",
    "    n, m = L.shape\n",
    "    A = beta[:, None] * alpha[None, :]\n",
    "    sigma_A = expit(A)\n",
    "    sigma_minus_A = expit(-A)\n",
    "    \n",
    "    q0 = q[0][:, None]\n",
    "    q1 = q[1][:, None]\n",
    "    \n",
    "    grad_matrix = np.where(L == 0,\n",
    "                           q0 * sigma_minus_A - q1 * sigma_A,\n",
    "                           q1 * sigma_minus_A - q0 * sigma_A)\n",
    "    \n",
    "    grad_beta = np.sum(grad_matrix * alpha[None, :], axis=1)\n",
    "    \n",
    "    grad_logbeta = beta * grad_beta\n",
    "    \n",
    "    return grad_logbeta\n",
    "\n",
    "def lower_bound(alpha, beta, L, q):\n",
    "    \"\"\" Lower bound\n",
    "    Args:\n",
    "        alpha: ndarray of shape (n_experts).\n",
    "        beta: ndarray of shape (n_problems).\n",
    "        L: ndarray of shape (n_problems, n_experts).\n",
    "        q: ndarray of shape (2, n_problems).\n",
    "    \"\"\"\n",
    "    n, m = L.shape\n",
    "    A = beta[:, None] * alpha[None, :]\n",
    "    \n",
    "    log_sigma_z0 = np.where(L == 0, -softplus(-A), -softplus(A))\n",
    "    \n",
    "    log_sigma_z1 = np.where(L == 1, -softplus(-A), -softplus(A))\n",
    "    \n",
    "    ll0 = np.log(0.5) + np.sum(log_sigma_z0, axis=1)\n",
    "    ll1 = np.log(0.5) + np.sum(log_sigma_z1, axis=1)\n",
    "    \n",
    "    entropy = - np.sum(q * np.log(q + 1e-10), axis=0)\n",
    "    \n",
    "    lb = np.sum(q[0] * ll0 + q[1] * ll1 + entropy)\n",
    "    \n",
    "    return lb\n"
   ]
  },
  {
   "cell_type": "code",
   "execution_count": 19,
   "metadata": {
    "execution": {
     "iopub.execute_input": "2025-03-21T18:05:53.681668Z",
     "iopub.status.busy": "2025-03-21T18:05:53.680584Z",
     "iopub.status.idle": "2025-03-21T18:05:53.693433Z",
     "shell.execute_reply": "2025-03-21T18:05:53.692703Z",
     "shell.execute_reply.started": "2025-03-21T18:05:53.681623Z"
    },
    "pycharm": {
     "name": "#%%\n"
    },
    "tags": []
   },
   "outputs": [],
   "source": [
    "def em(L, n_steps=1000, lr=1e-3):\n",
    "    \n",
    "    n, m = L.shape\n",
    "    \n",
    "    alpha = np.random.randn(m)\n",
    "    logbeta = np.random.randn(n)\n",
    "    beta = np.exp(logbeta)\n",
    "    q = np.ones((2, n)) * 0.5\n",
    "    \n",
    "    for step in range(n_steps):\n",
    "        \n",
    "        beta = np.exp(logbeta)\n",
    "        q = posterior(alpha, beta, L)\n",
    "        \n",
    "        grad_alpha = alpha_grad_lb(alpha, beta, L, q)\n",
    "        grad_logbeta = logbeta_grad_lb(alpha, beta, L, q)\n",
    "        \n",
    "        alpha += lr * grad_alpha\n",
    "        logbeta += lr * grad_logbeta\n",
    "        \n",
    "    return alpha, np.exp(logbeta), q"
   ]
  },
  {
   "cell_type": "code",
   "execution_count": 20,
   "metadata": {
    "execution": {
     "iopub.execute_input": "2025-03-21T18:05:54.704323Z",
     "iopub.status.busy": "2025-03-21T18:05:54.703451Z",
     "iopub.status.idle": "2025-03-21T18:05:59.872339Z",
     "shell.execute_reply": "2025-03-21T18:05:59.871431Z",
     "shell.execute_reply.started": "2025-03-21T18:05:54.704280Z"
    },
    "pycharm": {
     "name": "#%%\n"
    },
    "tags": []
   },
   "outputs": [
    {
     "data": {
      "text/plain": [
       "(array([ 0.63753547,  0.75228005,  4.4001252 ,  0.54804297,  0.64690295,\n",
       "         4.35564589,  0.63207995,  4.04474391, -4.22843341,  0.6570759 ,\n",
       "        -4.3909037 , -4.31143788,  4.2226915 ,  0.55409814,  0.64945446,\n",
       "         0.53662284,  0.64960411,  4.12157083, -4.06185601,  4.04695979]),\n",
       " array([1.16625135, 1.48023189, 1.98869631, ..., 0.30868682, 1.06586015,\n",
       "        1.45007776]))"
      ]
     },
     "execution_count": 20,
     "metadata": {},
     "output_type": "execute_result"
    }
   ],
   "source": [
    "alpha, beta, q = em(L)\n",
    "alpha, beta"
   ]
  },
  {
   "cell_type": "markdown",
   "metadata": {
    "pycharm": {
     "name": "#%% md\n"
    }
   },
   "source": [
    "**Задание 2. (1 балл)** Загрузите настоящую разметку. Посчитайте `accuracy` разметки, полученной с помощью обычного голосования по большинству среди экспертов, и сравните его с качеством, полученным с помощью EM-алгоритма. Помните, что алгоритму не важно, какая метка 0, а какая 1, поэтому если получите качество <0.5, то просто поменяйте метки классов (не забудьте также поменять знак у $\\alpha$). "
   ]
  },
  {
   "cell_type": "code",
   "execution_count": 12,
   "metadata": {
    "execution": {
     "iopub.execute_input": "2025-03-21T17:50:32.044916Z",
     "iopub.status.busy": "2025-03-21T17:50:32.043674Z",
     "iopub.status.idle": "2025-03-21T17:50:32.070827Z",
     "shell.execute_reply": "2025-03-21T17:50:32.069918Z",
     "shell.execute_reply.started": "2025-03-21T17:50:32.044874Z"
    },
    "pycharm": {
     "name": "#%%\n"
    },
    "tags": []
   },
   "outputs": [
    {
     "name": "stdout",
     "output_type": "stream",
     "text": [
      "Accuracy большинство голосов: 0.904\n"
     ]
    }
   ],
   "source": [
    "y = np.load('y.npy')\n",
    "maj = (np.sum(L, axis=1) > (L.shape[1] / 2)).astype(int)\n",
    "acc_maj = np.mean(maj == y)\n",
    "print(\"Accuracy большинство голосов:\", acc_maj)"
   ]
  },
  {
   "cell_type": "code",
   "execution_count": 17,
   "metadata": {
    "execution": {
     "iopub.execute_input": "2025-03-21T17:51:25.058632Z",
     "iopub.status.busy": "2025-03-21T17:51:25.057458Z",
     "iopub.status.idle": "2025-03-21T17:51:25.069618Z",
     "shell.execute_reply": "2025-03-21T17:51:25.068696Z",
     "shell.execute_reply.started": "2025-03-21T17:51:25.058590Z"
    },
    "tags": []
   },
   "outputs": [
    {
     "name": "stdout",
     "output_type": "stream",
     "text": [
      "Accuracy EM algorithm: 0.9555\n"
     ]
    }
   ],
   "source": [
    "pred_em = np.argmax(q, axis=0)\n",
    "acc_em = np.mean(pred_em == y)\n",
    "pred_em = 1 - pred_em\n",
    "\n",
    "acc_em = np.mean(pred_em == y)\n",
    "\n",
    "alpha = -alpha\n",
    "    \n",
    "print(\"Accuracy Ем алгоритм:\", acc_em)"
   ]
  },
  {
   "cell_type": "markdown",
   "metadata": {
    "pycharm": {
     "name": "#%% md\n"
    }
   },
   "source": [
    "**Задание 3. (0.5 балла)** Попробуйте проинтерпретировать полученные коэфициенты $\\alpha$. Есть ли в выборке эксперты, которые намеренно голосуют неверно? Как это можно понять по альфам? Продемонстрируйте, что эксперты действительно чаще голосуют за неверный класс. Постройте график зависимости доли врено размеченных экспертом объектов от коэффициента $\\alpha$. Прокомментируйте результаты."
   ]
  },
  {
   "cell_type": "code",
   "execution_count": 21,
   "metadata": {
    "execution": {
     "iopub.execute_input": "2025-03-21T18:09:47.223457Z",
     "iopub.status.busy": "2025-03-21T18:09:47.222194Z",
     "iopub.status.idle": "2025-03-21T18:09:47.485312Z",
     "shell.execute_reply": "2025-03-21T18:09:47.484280Z",
     "shell.execute_reply.started": "2025-03-21T18:09:47.223404Z"
    },
    "pycharm": {
     "name": "#%%\n"
    }
   },
   "outputs": [
    {
     "data": {
      "image/png": "[encoded data removed]",
      "text/plain": [
       "<Figure size 800x500 with 1 Axes>"
      ]
     },
     "metadata": {},
     "output_type": "display_data"
    }
   ],
   "source": [
    "# (∩ᄑ_ᄑ)⊃━☆ﾟ*･｡*\n",
    "import matplotlib.pyplot as plt\n",
    "\n",
    "estimated_labels = (q[1, :] > 0.5).astype(int)\n",
    "\n",
    "n, m = L.shape\n",
    "fraction_correct = np.zeros(m)\n",
    "for j in range(m):\n",
    "    \n",
    "    fraction_correct[j] = np.mean(L[:, j] == estimated_labels)\n",
    "    \n",
    "plt.figure(figsize=(8, 5))\n",
    "plt.scatter(alpha, fraction_correct, s=50, edgecolor='k', alpha=0.7)\n",
    "plt.xlabel(\"Коэффициент экспертизы α\", fontsize=12)\n",
    "plt.ylabel(\"Доля верных ответов\", fontsize=12)\n",
    "plt.title(\"Зависимость доли верных ответов эксперта от коэффициента α\", fontsize=14)\n",
    "plt.axhline(0.5, color='red', linestyle='--', label='Случайное угадывание (0.5)')\n",
    "plt.legend()\n",
    "plt.grid(True)\n",
    "plt.show()"
   ]
  },
  {
   "cell_type": "markdown",
   "metadata": {},
   "source": [
    "# Группы экспертов\n",
    "\n",
    "На графике чётко видно три группы экспертов:\n",
    "\n",
    "- **Анти-эксперты** (слева, при *α <= −4*):  \n",
    "  Эксперты с долей верных ответов заметно ниже 0.5. Они чаще дают неправильные ответы, чем при случайном угадывании, такие эксперты интерпретируются как «анти-эксперты», поскольку их ответы почти всегда неверны. Есть вероятность, что они голосуют неверно намеренно.\n",
    "\n",
    "- **Хорошие эксперты** (справа, при *α>= +4*):  \n",
    "  Эксперты, дающие правильный ответ почти в 100 % случаев. Они являются наиболее надёжными и уверенно распознаются моделью как качественные эксперты.\n",
    "\n",
    "- **Нормальные эксперты** (справа, при *α>= +4*):  \n",
    "  Эксперты, дающие правильный ответ приблизительно в 60-70 % случаев. Они дают верный ответ с точностью выше, чем случайное угадывание, но делают это хуже, чем \"хороште\" эксперты."
   ]
  },
  {
   "cell_type": "markdown",
   "metadata": {
    "pycharm": {
     "name": "#%% md\n"
    }
   },
   "source": [
    "**Задание 4. (бонус, 2 балла)**  Как уже было замечено выше, модели не важно, какой класс 1, а какой 0. Скажем, если все эксперты оказались максимально противными и ставят метку с точностью наоборот, то у вас будет полная согласованность между экспертами, при этом невозможно понять правильно они разметили выборку или нет, смотря только на такую разметку. Чтобы избежать этого, можно включать в выборку вопрос с заведомо известным ответом, тогда вы сможете определить, ставит ли эксперт специально неверные метки.\n",
    "\n",
    "Чтобы обощить данную модель на случай заданий с заведомо известной меткой, достоточно не делать для них E-шаг, а всегда полагать апостериорное распределение вырожденным в истинном классе. Реализуйте данную модель и используйте истинную разметку *для нескольких* задач из обучения. Проинтерпретируйте полученные результаты."
   ]
  },
  {
   "cell_type": "markdown",
   "metadata": {
    "pycharm": {
     "name": "#%% md\n"
    }
   },
   "source": [
    "# Выравнивание слов (Word Alignment)"
   ]
  },
  {
   "cell_type": "markdown",
   "metadata": {
    "pycharm": {
     "name": "#%% md\n"
    }
   },
   "source": [
    "EM-алгоритм также применяют на практике для настройки параметров модели выравнивания слов, более сложные модификации которой используются в статистическом машинном переводе. Мы не будем подробно обсуждать применение word alignment для перевода и ограничимся следующей целью: пусть у нас есть параллельный корпус из предложений на исходном языке и их переводов на целевой язык (в этом задании используются английский и чешский соответственно). \n",
    "\n",
    "Первая задача — определить с помощью этого корпуса, как переводится каждое отдельное слово на целевом языке. Вторая задача — для произвольной пары из предложения и его перевода установить, переводом какого слова в исходном предложении является каждое слово в целевом предложении. Оказывается, у обеих задач существует элегантное и эффективное решение при введении правильной вероятностной модели: в этой части задания вам предстоит его реализовать и оценить результаты работы. Но обо всём по порядку :)\n",
    "\n",
    "---\n",
    "\n",
    "Перед тем, как заниматься машинным обучением, давайте разберёмся с данными и метриками в интересующей нас задаче. В ячейке ниже загружается и разархивируется параллельный английско-чешский корпус, в котором есть разметка выравнивания слов. Нетрудно заметить, что формат XML-файла, использованный его авторами, не вполне стандартный: нет готовой команды , которая позволила бы получить список пар предложений вместе с выравниваниями. Это значит, что нужно разобраться с форматом и написать парсер самостоятельно, используя встроенные средства Python, например, модуль [xml](https://docs.python.org/3.7/library/xml.html)."
   ]
  },
  {
   "cell_type": "code",
   "execution_count": 27,
   "metadata": {
    "execution": {
     "iopub.execute_input": "2025-03-21T18:53:31.740102Z",
     "iopub.status.busy": "2025-03-21T18:53:31.739089Z",
     "iopub.status.idle": "2025-03-21T18:53:35.211142Z",
     "shell.execute_reply": "2025-03-21T18:53:35.210154Z",
     "shell.execute_reply.started": "2025-03-21T18:53:31.740059Z"
    },
    "tags": []
   },
   "outputs": [
    {
     "name": "stdout",
     "output_type": "stream",
     "text": [
      "<?xml version=\"1.0\" encoding=\"utf-8\" ?>\n",
      "<sentences>\n",
      "<s id=\"project_syndicate_bacchetta1-s1\">\n",
      "  <english>Are the Dollar 's Days Numbered ?</english>\n",
      "  <czech>Jsou dny dolaru sečteny ?</czech>\n",
      "  <sure>1-1 3-3 5-2 6-4 7-5</sure>\n",
      "  <possible>2-2 4-3</possible>\n",
      "</s>\n",
      "<s id=\"project_syndicate_bacchetta1-s2\">\n",
      "  <english>Philippe Bacchetta and Eric van Wincoop</english>\n",
      "  <czech>Philippe Bacchetta and Eric van Wincoop</czech>\n",
      "  <sure>1-1 2-2 3-3 4-4 5-5 6-6</sure>\n",
      "  <possible></possible>\n",
      "</s>\n",
      "<s id=\"project_syndicate_bacchetta1-s3\">\n",
      "  <english>A year ago , the dollar bestrode the world like a colossus .</english>\n",
      "  <czech>Ještě před rokem dolar dominoval světu jako imperátor .</czech>\n",
      "  <sure>10-7 12-8 13-9 2-3 3-2 6-4 7-5 9-6</sure>\n",
      "  <possible>1-3 11-8 3-1 5-4 8-6</possible>\n",
      "</s>\n"
     ]
    }
   ],
   "source": [
    "%%bash\n",
    "mkdir -p data\n",
    "tar -xzf CzEnAli_1.0.tar.gz -C data/\n",
    "head -n 20 data/merged_data/project_syndicate/project_syndicate_bacchetta1.wa"
   ]
  },
  {
   "cell_type": "markdown",
   "metadata": {
    "pycharm": {
     "name": "#%% md\n"
    }
   },
   "source": [
    "**Задание -2. (0.5 балла)** Реализуйте функцию `extract_sentences`, которая принимает на вход путь к файлу с XML-разметкой, используемой в этом датасете, и возвращает список параллельных предложений, а также список из «уверенных» (sure) и «возможных» (possible) пар выравниваний. Отправьте вашу реализацию в Яндекс.Контест, чтобы убедиться в её корректности; в следующей ячейке ноутбука соберите все пары размеченных предложений из датасета в два списка `all_sentences` (список `SentencePair`) и `all_targets` (список LabeledAlignment).\n",
    "\n",
    "Здесь и далее соблюдайте сигнатуры функций и пользуйтесь объявленными в модуле `preprocessing.py` классами для организации данных. Стоит заметить, что предложения уже токенизированы (даже отделена пунктуация), поэтому предобработку текстов совершать не нужно. Обратите внимание на формат хранения выравниваний: нумерация начинается с 1 (в таком виде и нужно сохранять), первым в паре идёт слово из англоязычного предложения."
   ]
  },
  {
   "cell_type": "code",
   "execution_count": 2,
   "metadata": {
    "execution": {
     "iopub.execute_input": "2025-03-21T20:18:35.951293Z",
     "iopub.status.busy": "2025-03-21T20:18:35.950195Z",
     "iopub.status.idle": "2025-03-21T20:18:36.240524Z",
     "shell.execute_reply": "2025-03-21T20:18:36.239675Z",
     "shell.execute_reply.started": "2025-03-21T20:18:35.951249Z"
    },
    "tags": []
   },
   "outputs": [],
   "source": [
    "import os\n",
    "from preprocessing import extract_sentences\n",
    "\n",
    "def collect_sentence_pairs_and_alignments(base_dir: str):\n",
    "    sentence_pairs = []\n",
    "    alignments = []\n",
    "\n",
    "    for root, _, files in os.walk(base_dir):\n",
    "        for filename in files:\n",
    "            file_path = os.path.join(root, filename)\n",
    "            try:\n",
    "                sents, aligns = extract_sentences(file_path)\n",
    "                sentence_pairs.extend(sents)\n",
    "                alignments.extend(aligns)\n",
    "            except Exception as err:\n",
    "                print(f\"Ошибка при обработке файла {file_path}: {err}\")\n",
    "\n",
    "    return sentence_pairs, alignments\n",
    "\n",
    "all_sentences, all_targets = collect_sentence_pairs_and_alignments(\"data/merged_data\")\n"
   ]
  },
  {
   "cell_type": "markdown",
   "metadata": {
    "execution": {
     "iopub.status.busy": "2025-04-03T11:01:43.026999116Z",
     "iopub.status.idle": "2025-04-03T11:01:43.057054032Z",
     "shell.execute_reply": "2025-04-03T11:01:43.026824200Z"
    }
   },
   "source": [
    "https://contest.yandex.ru/contest/60281/run-report/135393843/"
   ]
  },
  {
   "cell_type": "markdown",
   "metadata": {
    "pycharm": {
     "name": "#%% md\n"
    }
   },
   "source": [
    "**Задание -1. (0.5 балла)** Реализуйте функции `get_token_to_index` и `tokenize_sents` из модуля `preprocessing.py`, постройте словари token->index для обоих языков и постройте список из `TokenizedSentencePair` по выборке. Реализации функций также отправьте в Яндекс.Контест."
   ]
  },
  {
   "cell_type": "code",
   "execution_count": 3,
   "metadata": {
    "execution": {
     "iopub.execute_input": "2025-03-21T20:18:38.503225Z",
     "iopub.status.busy": "2025-03-21T20:18:38.501991Z",
     "iopub.status.idle": "2025-03-21T20:18:38.578932Z",
     "shell.execute_reply": "2025-03-21T20:18:38.578090Z",
     "shell.execute_reply.started": "2025-03-21T20:18:38.503191Z"
    },
    "pycharm": {
     "name": "#%%\n"
    },
    "tags": []
   },
   "outputs": [],
   "source": [
    "from preprocessing import get_token_to_index, tokenize_sents\n",
    "\n",
    "t_idx_src, t_idx_tgt = get_token_to_index(all_sentences)\n",
    "tokenized_sentences = tokenize_sents(all_sentences, t_idx_src, t_idx_tgt)"
   ]
  },
  {
   "cell_type": "markdown",
   "metadata": {},
   "source": [
    "https://contest.yandex.ru/contest/60281/run-report/135394394/"
   ]
  },
  {
   "cell_type": "markdown",
   "metadata": {
    "pycharm": {
     "name": "#%% md\n"
    }
   },
   "source": [
    "В качестве бейзлайна для этой задачи мы возьмём способ выравнивания слов по коэффициенту Дайса: слово в исходном языке является переводом слова на целевом языке, если они часто встречаются в одних и тех же предложениях и редко встречаются по отдельности. \n",
    "\n",
    "Математически это записывается по аналогии с мерой Жаккара: пусть $c(x,y)$ — число параллельных предложений, в которых есть и $x$ (на исходном языке), и $y$ (на целевом языке), а $c(x)$ и $c(y)$ — суммарное количество предложений, в которых встречается слово $x$ и $y$ соответственно. Тогда $\\textrm{Dice}(x,y)=\\frac{2 \\cdot c(x,y)}{c(x) + c(y)}$ — характеристика «похожести» слов $x$ и $y$. Она равна 1, если слова встречаются только в контексте друг друга (не бывает предложений только со словом $x$ без $y$ в переводе и наоборот), равна 0, если слова никогда не встречаются в параллельных предложениях и находится между пороговыми значениями в остальных случаях.\n",
    "\n",
    "В файле `models.py` описан абстрактный класс `BaseAligner`, наследником которого должны являться все модели в задании, а также приведён пример реализации `DiceAligner` выравнивания слов описанным выше путём. Ниже вы можете увидеть, как применять эту модель."
   ]
  },
  {
   "cell_type": "code",
   "execution_count": 4,
   "metadata": {
    "execution": {
     "iopub.execute_input": "2025-03-21T20:25:37.291169Z",
     "iopub.status.busy": "2025-03-21T20:25:37.289897Z",
     "iopub.status.idle": "2025-03-21T20:25:43.706107Z",
     "shell.execute_reply": "2025-03-21T20:25:43.705190Z",
     "shell.execute_reply.started": "2025-03-21T20:25:37.291122Z"
    },
    "pycharm": {
     "name": "#%%\n"
    }
   },
   "outputs": [],
   "source": [
    "from models import DiceAligner\n",
    "\n",
    "baseline = DiceAligner(len(t_idx_src), len(t_idx_tgt), threshold=0.01)\n",
    "baseline.fit(tokenized_sentences)"
   ]
  },
  {
   "cell_type": "markdown",
   "metadata": {
    "pycharm": {
     "name": "#%% md\n"
    }
   },
   "source": [
    "Чтобы оценить качество модели выравнивания, пользуясь имеющейся разметкой, существует ряд автоматических метрик. Они подразумевают, что в разметке есть два вида выравниваний — «уверенные» (sure) и «возможные» (possible). Обозначим для конкретного предложения первое множество выравниваний $S$, второе — $P$, а предсказанные выравнивания — $A$; причём, в отличие от разметки в файле, $S\\subseteq P$. Тогда можно предложить три метрики, используя только операции над этими множествами:\n",
    "\n",
    "Precision $=\\frac{|A\\cap P|}{|A|}$. Отражает, какая доля предсказанных нами выравниваний вообще корректна; если мы дадим в качестве ответа все возможные пары слов в предложении, эта метрика сильно просядет.\n",
    "\n",
    "Recall $=\\frac{|A\\cap S|}{|S|}$. Эта метрика показывает, какую долю «уверенных» выравниваний мы обнаружили. Если мы попытаемся сделать слишком консервативную модель, которая выдаёт 0 или 1 предсказание на нетривиальных предложениях, полнота получится крайне низкая. \n",
    "\n",
    "Alignment Error Rate (AER) $=1-\\frac{|A\\cap P|+|A\\cap S|}{|A|+|S|}$. Метрика является комбинацией двух предыдущих и отслеживает общее качество работы системы, штрафуя оба описанных выше вида нежелаемого поведения модели. \n",
    "\n",
    "**Задание 0. (0.5 балла)** Реализуйте функции compute_precision, compute_recall, compute_aer из модуля metrics.py. Оцените качество бейзлайнового метода. Обратите внимание, что нужно использовать микро-усреднение во всех функциях: необходимо просуммировать числитель и знаменатель по всем предложениям и только потом делить."
   ]
  },
  {
   "cell_type": "markdown",
   "metadata": {},
   "source": [
    "https://contest.yandex.ru/contest/60281/run-report/135396269/"
   ]
  },
  {
   "cell_type": "code",
   "execution_count": 6,
   "metadata": {
    "execution": {
     "iopub.execute_input": "2025-03-21T21:38:24.619689Z",
     "iopub.status.busy": "2025-03-21T21:38:24.618448Z",
     "iopub.status.idle": "2025-03-21T21:38:25.252420Z",
     "shell.execute_reply": "2025-03-21T21:38:25.251509Z",
     "shell.execute_reply.started": "2025-03-21T21:38:24.619639Z"
    },
    "pycharm": {
     "name": "#%%\n"
    },
    "tags": []
   },
   "outputs": [
    {
     "data": {
      "text/plain": [
       "0.898931385922171"
      ]
     },
     "execution_count": 6,
     "metadata": {},
     "output_type": "execute_result"
    }
   ],
   "source": [
    "from metrics import compute_aer\n",
    "\n",
    "compute_aer(all_targets,baseline.align(tokenized_sentences))"
   ]
  },
  {
   "cell_type": "markdown",
   "metadata": {
    "pycharm": {
     "name": "#%% md\n"
    }
   },
   "source": [
    "Теперь мы можем перейти к базовой вероятностной модели для выравнивания слов. Пусть $S=(s_1,\\ldots,s_n)$ исходное предложение, $T=(t_1,\\ldots,t_m)$ — его перевод. В роли латентных переменных будут выступать выравнивания $A=(a_1,\\ldots,a_m)$ каждого слова в целевом предложении, причём $a_i\\in\\{1,\\ldots,n\\}$ (считаем, что каждое слово в $t$ является переводом какого-то слова из $s$). Параметрами модели является матрица условных вероятностей перевода: каждый её элемент $\\theta(y|x)=p(y|x)$ отражает вероятность того, что переводом слова $x$ с исходного языка на целевой является слово $y$ (нормировка, соответственно, совершается по словарю целевого языка). Правдоподобие латентных переменных и предложения на целевом языке в этой модели записывается так:\n",
    "\n",
    "$$\n",
    "p(A,T|S)=\\prod_{i=1}^m p(a_i)p(t_i|a_i,S)=\\prod_{i=1}^m \\frac{1}{n}\\theta(t_i|s_{a_i}).\n",
    "$$ "
   ]
  },
  {
   "cell_type": "markdown",
   "metadata": {
    "pycharm": {
     "name": "#%% md\n"
    }
   },
   "source": [
    "**Задание 1. (2 балла)** Выведите шаги EM-алгоритма для этой модели, а также получите выражение для подсчёта нижней оценки правдоподобия ($\\mathcal{L}$ в обозначениях лекции и семинара). **Обратите внимание, что на M-шаге нужно найти аналитический максимум по параметрам.**"
   ]
  },
  {
   "cell_type": "markdown",
   "metadata": {
    "pycharm": {
     "name": "#%% md\n"
    }
   },
   "source": [
    "## EM-алгоритм\n",
    "\n",
    "**Обозначения:**\n",
    "\n",
    "- $S = (s_1, \\dots, s_n)$ — исходное предложение (например, английское)\n",
    "- $T = (t_1, \\dots, t_m)$ — целевое предложение (например, чешское)\n",
    "- $A = (a_1, \\dots, a_m)$, где $a_i \\in \\{1, \\dots, n\\}$ — скрытое выравнивание: откуда пришло каждое слово в $T$\n",
    "- $\\theta(t \\mid s) = p(t \\mid s)$ — параметры модели, вероятность перевода слова $s$ в $t$\n",
    "\n",
    "---\n",
    "\n",
    "### E-шаг (Expectation):\n",
    "\n",
    "Мы хотим вычислить апостериорное распределение над скрытыми выравниваниями $a_i$, то есть\n",
    "$$\n",
    "p(a_i = j \\mid T, S, \\theta).\n",
    "$$\n",
    "\n",
    "Используем формулу Байеса:\n",
    "$$\n",
    "q_i(j) = p(a_i = j \\mid t_i, S) \n",
    "= \\frac{p(a_i = j) \\cdot p(t_i \\mid s_j)}{\\displaystyle \\sum_{l=1}^{n} p(a_i = l) \\cdot p(t_i \\mid s_l)}\n",
    "= \\frac{\\frac{1}{n} \\cdot \\theta(t_i \\mid s_j)}{\\displaystyle \\sum_{l=1}^{n} \\frac{1}{n} \\cdot \\theta(t_i \\mid s_l)}\n",
    "= \\frac{\\theta(t_i \\mid s_j)}{\\displaystyle \\sum_{l=1}^{n} \\theta(t_i \\mid s_l)}.\n",
    "$$\n",
    "\n",
    "Таким образом, для каждого слова $t_i$ на целевом языке и каждого слова $s_j$ на исходном языке:\n",
    "$$\n",
    "q_i(j) := p(a_i = j \\mid t_i, S) = \\frac{\\theta(t_i \\mid s_j)}{\\displaystyle \\sum_{l=1}^{n} \\theta(t_i \\mid s_l)}.\n",
    "$$\n",
    "\n",
    "---\n",
    "\n",
    "### M-шаг (Maximization):\n",
    "\n",
    "Мы хотим обновить параметры $\\theta(t \\mid s)$, максимизируя нижнюю оценку лог-правдоподобия:\n",
    "$$\n",
    "\\mathcal{L} = \\sum_{(S,T)} \\sum_{i=1}^{m} \\sum_{j=1}^{n} q_i(j) \\cdot \\log\\!\\left( \\frac{1}{n} \\cdot \\theta(t_i \\mid s_j) \\right)\n",
    "= \\sum_{(S,T)} \\sum_{i=1}^{m} \\sum_{j=1}^{n} q_i(j) \\cdot \\left( -\\log n + \\log \\theta(t_i \\mid s_j) \\right).\n",
    "$$\n",
    "\n",
    "Опуская константу $-\\log n$, максимизируем:\n",
    "$$\n",
    "\\sum_{s,t} c(s,t) \\cdot \\log \\theta(t \\mid s),\n",
    "$$\n",
    "где\n",
    "$$\n",
    "c(s,t) = \\sum_{\\text{предложений}} \\sum_{i=1}^{m} \\sum_{j=1}^{n} \\mathbb{I}[s_j = s,\\; t_i = t] \\cdot q_i(j)\n",
    "$$\n",
    "— «мягкое» количество раз, когда $s$ переводилось в $t$.\n",
    "\n",
    "Максимизация этой функции по $\\theta$ при ограничении\n",
    "$$\n",
    "\\sum_{t} \\theta(t \\mid s) = 1 \\quad \\text{для каждого } s\n",
    "$$\n",
    "даёт:\n",
    "$$\n",
    "\\theta(t \\mid s) = \\frac{c(s, t)}{\\displaystyle \\sum_{t'} c(s, t')}.\n",
    "$$\n",
    "\n",
    "---\n",
    "\n",
    "### Итоговые шаги EM:\n",
    "\n",
    "1. **E-шаг:**  \n",
    "   Для каждого слова $t_i$ и каждого слова $s_j$ вычислить:\n",
    "   $$\n",
    "   q_i(j) = \\frac{\\theta(t_i \\mid s_j)}{\\displaystyle \\sum_{l=1}^{n} \\theta(t_i \\mid s_l)}.\n",
    "   $$\n",
    "\n",
    "2. **M-шаг:**  \n",
    "   Обновить:\n",
    "   $$\n",
    "   \\theta(t \\mid s) = \\frac{c(s, t)}{\\displaystyle \\sum_{t'} c(s, t')},\n",
    "   $$\n",
    "   где\n",
    "   $$\n",
    "   c(s, t) = \\sum_{\\text{предложений}} \\sum_{i=1}^{m} \\sum_{j=1}^{n} \\mathbb{I}[s_j = s,\\; t_i = t] \\cdot q_i(j).\n",
    "   $$\n",
    "\n",
    "---\n",
    "\n",
    "### Нижняя оценка лог-правдоподобия:\n",
    "\n",
    "$$\n",
    "\\mathcal{L} = \\sum_{(S,T)} \\sum_{i=1}^{m} \\sum_{j=1}^{n} q_i(j) \\cdot \\log\\!\\left( \\frac{1}{n} \\cdot \\theta(t_i \\mid s_j) \\right)\n",
    "= \\sum_{(S,T)} \\sum_{i=1}^{m} \\sum_{j=1}^{n} q_i(j) \\cdot \\left( -\\log n + \\log \\theta(t_i \\mid s_j) \\right).\n",
    "$$\n"
   ]
  },
  {
   "cell_type": "markdown",
   "metadata": {
    "pycharm": {
     "name": "#%% md\n"
    }
   },
   "source": [
    "**Задание 2. (2.5 балла)** Реализуйте все методы класса `WordAligner` в соответствии с полученными вами формулами. Протестируйте вашу реализацию через Яндекс.Контест, а здесь обучите модель и посчитайте её AER на истинной разметке. Чтобы предсказать выравнивание для пары предложений в этой модели, следует выбирать в соответствие для слова в целевом предложении с индексом $i$ позицию, соответствующую максимуму апостериорного распределения $p(a_i|T,S)$.\n",
    "\n",
    "у меня memory limit, я ничего не понимаю "
   ]
  },
  {
   "cell_type": "code",
   "execution_count": 7,
   "metadata": {
    "execution": {
     "iopub.execute_input": "2025-03-21T22:35:18.792643Z",
     "iopub.status.busy": "2025-03-21T22:35:18.791713Z",
     "iopub.status.idle": "2025-03-21T22:35:18.974009Z",
     "shell.execute_reply": "2025-03-21T22:35:18.973097Z",
     "shell.execute_reply.started": "2025-03-21T22:35:18.792609Z"
    },
    "pycharm": {
     "name": "#%%\n"
    }
   },
   "outputs": [],
   "source": [
    "from models import WordAligner\n",
    "\n",
    "word_aligner = WordAligner(len(t_idx_src), len(t_idx_tgt), 20)\n",
    "word_aligner.fit(tokenized_sentences);\n",
    "\n",
    "# ༼つ ಠ益ಠ༽つ ─=≡ΣO))"
   ]
  },
  {
   "cell_type": "markdown",
   "metadata": {
    "pycharm": {
     "name": "#%% md\n"
    }
   },
   "source": [
    "Заметим, что таблицу вероятностей перевода можно использовать и саму по себе для построения словарей. Пример работы показан ниже: метод хоть и работает, но мягко говоря, неидально — слишком мало данных."
   ]
  },
  {
   "cell_type": "code",
   "execution_count": null,
   "metadata": {
    "pycharm": {
     "name": "#%%\n"
    }
   },
   "outputs": [],
   "source": [
    "idx_token_tgt = {index:token for token, index in t_idx_tgt.items()}"
   ]
  },
  {
   "cell_type": "code",
   "execution_count": null,
   "metadata": {
    "pycharm": {
     "name": "#%%\n"
    }
   },
   "outputs": [],
   "source": [
    "[idx_token_tgt[i] for i in word_aligner.translation_probs[t_idx_src['Mr']].argsort()[-3:]]"
   ]
  },
  {
   "cell_type": "code",
   "execution_count": null,
   "metadata": {
    "pycharm": {
     "name": "#%%\n"
    }
   },
   "outputs": [],
   "source": [
    "[idx_token_tgt[i] for i in word_aligner.translation_probs[t_idx_src['Mrs']].argsort()[-3:]]"
   ]
  },
  {
   "cell_type": "code",
   "execution_count": null,
   "metadata": {
    "pycharm": {
     "name": "#%%\n"
    },
    "scrolled": true
   },
   "outputs": [],
   "source": [
    "[idx_token_tgt[i] for i in word_aligner.translation_probs[t_idx_src['water']].argsort()[-3:]]"
   ]
  },
  {
   "cell_type": "code",
   "execution_count": null,
   "metadata": {
    "pycharm": {
     "name": "#%%\n"
    }
   },
   "outputs": [],
   "source": [
    "[idx_token_tgt[i] for i in word_aligner.translation_probs[t_idx_src['depended']].argsort()[-3:]]"
   ]
  },
  {
   "cell_type": "code",
   "execution_count": null,
   "metadata": {
    "pycharm": {
     "name": "#%%\n"
    }
   },
   "outputs": [],
   "source": [
    "[idx_token_tgt[i] for i in word_aligner.translation_probs[t_idx_src['on']].argsort()[-3:]]"
   ]
  },
  {
   "cell_type": "markdown",
   "metadata": {
    "pycharm": {
     "name": "#%% md\n"
    }
   },
   "source": [
    "**Задание 3. (0.5 балла)** Мы смогли получить матрицу условных вероятностей перевода исходного языка в целевой. Можно ли, пользуясь этой матрицей и ещё какими-то статистиками по параллельному корпусу, получить вероятности перевода целевого языка в исходный? Реализуйте такой метод и приведите ниже пример его работы, показав пару удачных переводов."
   ]
  },
  {
   "cell_type": "code",
   "execution_count": null,
   "metadata": {
    "pycharm": {
     "name": "#%%\n"
    }
   },
   "outputs": [],
   "source": [
    "# (>ω<)ノ—==ΞΞ☆*✲ﾟ"
   ]
  },
  {
   "cell_type": "markdown",
   "metadata": {
    "pycharm": {
     "name": "#%% md\n"
    }
   },
   "source": [
    "**Задание 4. (0.5 балла)** Визуализируйте полученные выравнивания для нескольких предложений в виде heatmap: по одной из осей располагаются токены исходного текста, по другой — токены его перевода, на пересечении позиций $i$ и $j$ — 0 либо 1 в зависимости от того, является ли в обученной модели $a_i$ равным $j$. Можете ли вы их проинтерпретировать? Постройте аналогичный график, но без дискретизации, а визуализируя напрямую апостериорное распределение. Можете ли вы найти ситуации, в которых модель не уверена, переводом какого слова является слово $i$?"
   ]
  },
  {
   "cell_type": "code",
   "execution_count": null,
   "metadata": {
    "pycharm": {
     "name": "#%%\n"
    }
   },
   "outputs": [],
   "source": [
    "# (•̀ 3 •́)━★☆.*･｡ﾟ"
   ]
  },
  {
   "cell_type": "markdown",
   "metadata": {
    "pycharm": {
     "name": "#%% md\n"
    }
   },
   "source": [
    "Заметим, что при задании модели мы сделали довольно сильное предположение о том, что вероятности выбора слова для выравнивания никак не зависят от позиции слова в целевом предложении. Можно сделать эти вероятности настраиваемыми параметрами, получив прямоугольную матрицу $\\phi_{m,n}(j|i)=p(a_i=j|m,n)$ для каждой пары длин предложений $m,n$: по-прежнему мы получаем распределение над индексами в исходном предложении. Тогда модель приобретает вид\n",
    "$$\n",
    "p(A,T|S)=\\prod_{i=1}^m p(a_i|m,n)p(t_i| a_i, S)=\\prod_{i=1}^m \\phi_{m,n}(a_i|i)\\theta(t_i|s_{a_i}).\n",
    "$$"
   ]
  },
  {
   "cell_type": "markdown",
   "metadata": {
    "pycharm": {
     "name": "#%% md\n"
    }
   },
   "source": [
    "**Задание 5. (1.5 балла)** Выведите шаги EM-алгоритма для этой модели, а также получите выражение для подсчёта нижней оценки правдоподобия."
   ]
  },
  {
   "cell_type": "markdown",
   "metadata": {
    "pycharm": {
     "name": "#%% md\n"
    }
   },
   "source": [
    "ଘ(๑˃̵ᴗ˂̵)━☆ﾟ.*･｡ﾟ"
   ]
  },
  {
   "cell_type": "markdown",
   "metadata": {
    "pycharm": {
     "name": "#%% md\n"
    }
   },
   "source": [
    "**Задание 6. (2 балла)** Реализуйте все методы класса `WordPositionAligner`, протестируйте их корректность через Яндекс.Контест. Обучите модель, оцените её качество на истинной разметке и сравните его с качеством предыдущей более простой модели. Проиллюстрируйте влияние стартовых параметров на результат, проинициализировав эту модель параметрами модели из задания 2 (важно, чтобы суммарное число эпох обучения в обоих сценариях оставалось тем же)."
   ]
  },
  {
   "cell_type": "code",
   "execution_count": null,
   "metadata": {
    "pycharm": {
     "name": "#%%\n"
    }
   },
   "outputs": [],
   "source": [
    "from models import WordPositionAligner\n",
    "# (≧ ◡ ≦)━★☆.*･｡ﾟ"
   ]
  },
  {
   "cell_type": "markdown",
   "metadata": {
    "pycharm": {
     "name": "#%% md\n"
    }
   },
   "source": [
    "**Задание 7. (1 балл)** В предыдущих пунктах мы никак не заостряли внимание на предобработке текстов, что может негативно влиять на результаты обученной модели. Например, сейчас метод выравнивания учитывает регистр, а слова на чешском языке вдобавок обладают богатой морфологией и большим количеством диакритических знаков. Если сократить количество параметров модели (различных слов), можно ускорить обучение и добиться лучших результатов, потому что статистики по словам будут считаться по большему числу параллельных предложений.\n",
    "\n",
    "Примените к исходным данным [Unicode-нормализацию](https://en.wikipedia.org/wiki/Unicode_equivalence#Normalization), приведите их к нижнему регистру и обучите модель выравнивания заново. Сравните качество и скорость обучения с предыдущими результатами и сделайте выводы. Если вы найдете в данных ещё какие-то проблемы, которые можно исправить более грамотной предобработкой, также продемонстрируйте, как их решение влияет на качество.\n",
    "\n",
    "**Важно:** здесь и далее в процессе обработки данных у вас может получаться, что из тестовых данных будут удалены предложения из-за отсутствия слов в словаре. Если такое всё же произошло, для корректности сравнения считайте AER вашей модели на удалённых предложениях равным 1."
   ]
  },
  {
   "cell_type": "code",
   "execution_count": null,
   "metadata": {
    "pycharm": {
     "name": "#%%\n"
    }
   },
   "outputs": [],
   "source": [
    "# (੭•̀ω•́)੭̸*✩⁺˚"
   ]
  },
  {
   "cell_type": "markdown",
   "metadata": {
    "pycharm": {
     "name": "#%% md\n"
    }
   },
   "source": [
    "**Задание 7. (бонус, до 3 баллов)** \n",
    "\n",
    "Улучшите качество получившейся системы настолько, насколько сможете. За каждые 5 процентов, на которые AER на тех же данных получается меньше, чем минимум ошибки всех предыдущих моделей, вы получите по 1 бонусному баллу.\n",
    "\n",
    "Ниже приведены несколько идей, которые могут помочь вам повысить \n",
    "\n",
    "* Модифицировать модель: как вы можете понять, недостатком второго реализованного вами подхода является избыточное число параметров из-за необходимости подерживать отдельную матрицу для каждой различной пары длин предложений в корпусе. В статье https://www.aclweb.org/anthology/N13-1073.pdf приведён способ снижения числа параметров, задающих априорное распределение позиций выравнивания, который позволяет в десять раз быстрее обучать модель и получать лучшее качество.\n",
    "* Агрегация по двум направлениям: в статье https://www.aclweb.org/anthology/J03-1002/ утверждается, что асимметричность выравниваний вредит качеству, потому что из-за выбранной модели одному слову в целевом предложении не может соответствовать два слова в исходном предложении. Для решения этой проблемы (и улучшения метрик, разумеется) авторы предлагают несколько алгоритмов, которые можно попробовать применить в этом задании.\n",
    "* Использовать больше обучающих данных. В корпусе, которым мы пользуемся, только пара тысяч предложений, чего может не хватать для по-настоящему хорошей модели выравнивания. Разумеется, неразмеченных параллельных английско-чешских корпусов гораздо больше, поэтому можно воспользоваться ими. Хорошая точка для старта — данные с соревнования по машинному переводу  [воркшопа WMT](http://www.statmt.org/wmt20/translation-task.html).\n",
    "* В языках часто существуют слова наподобие артиклей или предлогов, которым не соответствует ни одно слово в переводе. Все рассмотренные в рамках задания модели это не учитывают, возможно, добавление возможности перевода в «нулевой» токен улучшит качество модели (при тестировании такие выравнивания имеет смысл выбрасывать)"
   ]
  },
  {
   "cell_type": "code",
   "execution_count": null,
   "metadata": {
    "pycharm": {
     "name": "#%%\n"
    }
   },
   "outputs": [],
   "source": [
    "# ┐_(ツ)_┌━☆ﾟ.*･｡ﾟ"
   ]
  }
 ],
 "metadata": {
  "kernelspec": {
   "display_name": "DataSphere Kernel",
   "language": "python",
   "name": "python3"
  },
  "language_info": {
   "codemirror_mode": {
    "name": "ipython",
    "version": 3
   },
   "file_extension": ".py",
   "mimetype": "text/x-python",
   "name": "python",
   "nbconvert_exporter": "python",
   "pygments_lexer": "ipython3",
   "version": "3.10.12"
  }
 },
 "nbformat": 4,
 "nbformat_minor": 4
}
